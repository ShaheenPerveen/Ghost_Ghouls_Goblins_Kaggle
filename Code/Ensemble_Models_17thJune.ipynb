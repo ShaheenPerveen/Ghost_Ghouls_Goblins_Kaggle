{
 "cells": [
  {
   "cell_type": "code",
   "execution_count": 1,
   "metadata": {},
   "outputs": [],
   "source": [
    "import pandas as pd\n",
    "import numpy as np\n",
    "import warnings\n",
    "warnings.filterwarnings(\"ignore\")"
   ]
  },
  {
   "cell_type": "code",
   "execution_count": 2,
   "metadata": {},
   "outputs": [
    {
     "data": {
      "text/html": [
       "<div>\n",
       "<style scoped>\n",
       "    .dataframe tbody tr th:only-of-type {\n",
       "        vertical-align: middle;\n",
       "    }\n",
       "\n",
       "    .dataframe tbody tr th {\n",
       "        vertical-align: top;\n",
       "    }\n",
       "\n",
       "    .dataframe thead th {\n",
       "        text-align: right;\n",
       "    }\n",
       "</style>\n",
       "<table border=\"1\" class=\"dataframe\">\n",
       "  <thead>\n",
       "    <tr style=\"text-align: right;\">\n",
       "      <th></th>\n",
       "      <th>id</th>\n",
       "      <th>bone_length</th>\n",
       "      <th>rotting_flesh</th>\n",
       "      <th>hair_length</th>\n",
       "      <th>has_soul</th>\n",
       "      <th>color</th>\n",
       "      <th>type</th>\n",
       "    </tr>\n",
       "  </thead>\n",
       "  <tbody>\n",
       "    <tr>\n",
       "      <th>0</th>\n",
       "      <td>0</td>\n",
       "      <td>0.354512</td>\n",
       "      <td>0.350839</td>\n",
       "      <td>0.465761</td>\n",
       "      <td>0.781142</td>\n",
       "      <td>clear</td>\n",
       "      <td>Ghoul</td>\n",
       "    </tr>\n",
       "    <tr>\n",
       "      <th>1</th>\n",
       "      <td>1</td>\n",
       "      <td>0.575560</td>\n",
       "      <td>0.425868</td>\n",
       "      <td>0.531401</td>\n",
       "      <td>0.439899</td>\n",
       "      <td>green</td>\n",
       "      <td>Goblin</td>\n",
       "    </tr>\n",
       "    <tr>\n",
       "      <th>2</th>\n",
       "      <td>2</td>\n",
       "      <td>0.467875</td>\n",
       "      <td>0.354330</td>\n",
       "      <td>0.811616</td>\n",
       "      <td>0.791225</td>\n",
       "      <td>black</td>\n",
       "      <td>Ghoul</td>\n",
       "    </tr>\n",
       "    <tr>\n",
       "      <th>3</th>\n",
       "      <td>4</td>\n",
       "      <td>0.776652</td>\n",
       "      <td>0.508723</td>\n",
       "      <td>0.636766</td>\n",
       "      <td>0.884464</td>\n",
       "      <td>black</td>\n",
       "      <td>Ghoul</td>\n",
       "    </tr>\n",
       "    <tr>\n",
       "      <th>4</th>\n",
       "      <td>5</td>\n",
       "      <td>0.566117</td>\n",
       "      <td>0.875862</td>\n",
       "      <td>0.418594</td>\n",
       "      <td>0.636438</td>\n",
       "      <td>green</td>\n",
       "      <td>Ghost</td>\n",
       "    </tr>\n",
       "  </tbody>\n",
       "</table>\n",
       "</div>"
      ],
      "text/plain": [
       "   id  bone_length  rotting_flesh  hair_length  has_soul  color    type\n",
       "0   0     0.354512       0.350839     0.465761  0.781142  clear   Ghoul\n",
       "1   1     0.575560       0.425868     0.531401  0.439899  green  Goblin\n",
       "2   2     0.467875       0.354330     0.811616  0.791225  black   Ghoul\n",
       "3   4     0.776652       0.508723     0.636766  0.884464  black   Ghoul\n",
       "4   5     0.566117       0.875862     0.418594  0.636438  green   Ghost"
      ]
     },
     "execution_count": 2,
     "metadata": {},
     "output_type": "execute_result"
    }
   ],
   "source": [
    "train = pd.read_csv('../Data/Train/train.csv')\n",
    "train.head()"
   ]
  },
  {
   "cell_type": "code",
   "execution_count": 3,
   "metadata": {},
   "outputs": [
    {
     "data": {
      "text/plain": [
       "(371, 7)"
      ]
     },
     "execution_count": 3,
     "metadata": {},
     "output_type": "execute_result"
    }
   ],
   "source": [
    "train.shape"
   ]
  },
  {
   "cell_type": "code",
   "execution_count": 4,
   "metadata": {},
   "outputs": [
    {
     "data": {
      "text/html": [
       "<div>\n",
       "<style scoped>\n",
       "    .dataframe tbody tr th:only-of-type {\n",
       "        vertical-align: middle;\n",
       "    }\n",
       "\n",
       "    .dataframe tbody tr th {\n",
       "        vertical-align: top;\n",
       "    }\n",
       "\n",
       "    .dataframe thead th {\n",
       "        text-align: right;\n",
       "    }\n",
       "</style>\n",
       "<table border=\"1\" class=\"dataframe\">\n",
       "  <thead>\n",
       "    <tr style=\"text-align: right;\">\n",
       "      <th></th>\n",
       "      <th>id</th>\n",
       "      <th>bone_length</th>\n",
       "      <th>rotting_flesh</th>\n",
       "      <th>hair_length</th>\n",
       "      <th>has_soul</th>\n",
       "      <th>color</th>\n",
       "      <th>type</th>\n",
       "    </tr>\n",
       "  </thead>\n",
       "  <tbody>\n",
       "    <tr>\n",
       "      <th>count</th>\n",
       "      <td>371.000000</td>\n",
       "      <td>371.000000</td>\n",
       "      <td>371.000000</td>\n",
       "      <td>371.000000</td>\n",
       "      <td>371.000000</td>\n",
       "      <td>371</td>\n",
       "      <td>371</td>\n",
       "    </tr>\n",
       "    <tr>\n",
       "      <th>unique</th>\n",
       "      <td>NaN</td>\n",
       "      <td>NaN</td>\n",
       "      <td>NaN</td>\n",
       "      <td>NaN</td>\n",
       "      <td>NaN</td>\n",
       "      <td>6</td>\n",
       "      <td>3</td>\n",
       "    </tr>\n",
       "    <tr>\n",
       "      <th>top</th>\n",
       "      <td>NaN</td>\n",
       "      <td>NaN</td>\n",
       "      <td>NaN</td>\n",
       "      <td>NaN</td>\n",
       "      <td>NaN</td>\n",
       "      <td>white</td>\n",
       "      <td>Ghoul</td>\n",
       "    </tr>\n",
       "    <tr>\n",
       "      <th>freq</th>\n",
       "      <td>NaN</td>\n",
       "      <td>NaN</td>\n",
       "      <td>NaN</td>\n",
       "      <td>NaN</td>\n",
       "      <td>NaN</td>\n",
       "      <td>137</td>\n",
       "      <td>129</td>\n",
       "    </tr>\n",
       "    <tr>\n",
       "      <th>mean</th>\n",
       "      <td>443.676550</td>\n",
       "      <td>0.434160</td>\n",
       "      <td>0.506848</td>\n",
       "      <td>0.529114</td>\n",
       "      <td>0.471392</td>\n",
       "      <td>NaN</td>\n",
       "      <td>NaN</td>\n",
       "    </tr>\n",
       "    <tr>\n",
       "      <th>std</th>\n",
       "      <td>263.222489</td>\n",
       "      <td>0.132833</td>\n",
       "      <td>0.146358</td>\n",
       "      <td>0.169902</td>\n",
       "      <td>0.176129</td>\n",
       "      <td>NaN</td>\n",
       "      <td>NaN</td>\n",
       "    </tr>\n",
       "    <tr>\n",
       "      <th>min</th>\n",
       "      <td>0.000000</td>\n",
       "      <td>0.061032</td>\n",
       "      <td>0.095687</td>\n",
       "      <td>0.134600</td>\n",
       "      <td>0.009402</td>\n",
       "      <td>NaN</td>\n",
       "      <td>NaN</td>\n",
       "    </tr>\n",
       "    <tr>\n",
       "      <th>25%</th>\n",
       "      <td>205.500000</td>\n",
       "      <td>0.340006</td>\n",
       "      <td>0.414812</td>\n",
       "      <td>0.407428</td>\n",
       "      <td>0.348002</td>\n",
       "      <td>NaN</td>\n",
       "      <td>NaN</td>\n",
       "    </tr>\n",
       "    <tr>\n",
       "      <th>50%</th>\n",
       "      <td>458.000000</td>\n",
       "      <td>0.434891</td>\n",
       "      <td>0.501552</td>\n",
       "      <td>0.538642</td>\n",
       "      <td>0.466372</td>\n",
       "      <td>NaN</td>\n",
       "      <td>NaN</td>\n",
       "    </tr>\n",
       "    <tr>\n",
       "      <th>75%</th>\n",
       "      <td>678.500000</td>\n",
       "      <td>0.517223</td>\n",
       "      <td>0.603977</td>\n",
       "      <td>0.647244</td>\n",
       "      <td>0.600610</td>\n",
       "      <td>NaN</td>\n",
       "      <td>NaN</td>\n",
       "    </tr>\n",
       "    <tr>\n",
       "      <th>max</th>\n",
       "      <td>897.000000</td>\n",
       "      <td>0.817001</td>\n",
       "      <td>0.932466</td>\n",
       "      <td>1.000000</td>\n",
       "      <td>0.935721</td>\n",
       "      <td>NaN</td>\n",
       "      <td>NaN</td>\n",
       "    </tr>\n",
       "  </tbody>\n",
       "</table>\n",
       "</div>"
      ],
      "text/plain": [
       "                id  bone_length  rotting_flesh  hair_length    has_soul  \\\n",
       "count   371.000000   371.000000     371.000000   371.000000  371.000000   \n",
       "unique         NaN          NaN            NaN          NaN         NaN   \n",
       "top            NaN          NaN            NaN          NaN         NaN   \n",
       "freq           NaN          NaN            NaN          NaN         NaN   \n",
       "mean    443.676550     0.434160       0.506848     0.529114    0.471392   \n",
       "std     263.222489     0.132833       0.146358     0.169902    0.176129   \n",
       "min       0.000000     0.061032       0.095687     0.134600    0.009402   \n",
       "25%     205.500000     0.340006       0.414812     0.407428    0.348002   \n",
       "50%     458.000000     0.434891       0.501552     0.538642    0.466372   \n",
       "75%     678.500000     0.517223       0.603977     0.647244    0.600610   \n",
       "max     897.000000     0.817001       0.932466     1.000000    0.935721   \n",
       "\n",
       "        color   type  \n",
       "count     371    371  \n",
       "unique      6      3  \n",
       "top     white  Ghoul  \n",
       "freq      137    129  \n",
       "mean      NaN    NaN  \n",
       "std       NaN    NaN  \n",
       "min       NaN    NaN  \n",
       "25%       NaN    NaN  \n",
       "50%       NaN    NaN  \n",
       "75%       NaN    NaN  \n",
       "max       NaN    NaN  "
      ]
     },
     "execution_count": 4,
     "metadata": {},
     "output_type": "execute_result"
    }
   ],
   "source": [
    "train.describe(include='all')"
   ]
  },
  {
   "cell_type": "code",
   "execution_count": 5,
   "metadata": {},
   "outputs": [
    {
     "data": {
      "text/plain": [
       "id               0\n",
       "bone_length      0\n",
       "rotting_flesh    0\n",
       "hair_length      0\n",
       "has_soul         0\n",
       "color            0\n",
       "type             0\n",
       "dtype: int64"
      ]
     },
     "execution_count": 5,
     "metadata": {},
     "output_type": "execute_result"
    }
   ],
   "source": [
    "train.isna().sum()"
   ]
  },
  {
   "cell_type": "code",
   "execution_count": 6,
   "metadata": {},
   "outputs": [
    {
     "name": "stdout",
     "output_type": "stream",
     "text": [
      "<class 'pandas.core.frame.DataFrame'>\n",
      "RangeIndex: 371 entries, 0 to 370\n",
      "Data columns (total 7 columns):\n",
      "id               371 non-null int64\n",
      "bone_length      371 non-null float64\n",
      "rotting_flesh    371 non-null float64\n",
      "hair_length      371 non-null float64\n",
      "has_soul         371 non-null float64\n",
      "color            371 non-null object\n",
      "type             371 non-null object\n",
      "dtypes: float64(4), int64(1), object(2)\n",
      "memory usage: 20.4+ KB\n"
     ]
    }
   ],
   "source": [
    "train.info()"
   ]
  },
  {
   "cell_type": "code",
   "execution_count": 7,
   "metadata": {},
   "outputs": [],
   "source": [
    "import matplotlib.pyplot as plt\n",
    "import seaborn as sns"
   ]
  },
  {
   "cell_type": "code",
   "execution_count": 8,
   "metadata": {},
   "outputs": [],
   "source": [
    "train.drop(columns='id', inplace=True)"
   ]
  },
  {
   "cell_type": "code",
   "execution_count": 9,
   "metadata": {},
   "outputs": [],
   "source": [
    "train_transformed = train.copy()"
   ]
  },
  {
   "cell_type": "code",
   "execution_count": 10,
   "metadata": {},
   "outputs": [
    {
     "data": {
      "text/html": [
       "<div>\n",
       "<style scoped>\n",
       "    .dataframe tbody tr th:only-of-type {\n",
       "        vertical-align: middle;\n",
       "    }\n",
       "\n",
       "    .dataframe tbody tr th {\n",
       "        vertical-align: top;\n",
       "    }\n",
       "\n",
       "    .dataframe thead th {\n",
       "        text-align: right;\n",
       "    }\n",
       "</style>\n",
       "<table border=\"1\" class=\"dataframe\">\n",
       "  <thead>\n",
       "    <tr style=\"text-align: right;\">\n",
       "      <th></th>\n",
       "      <th>bone_length</th>\n",
       "      <th>rotting_flesh</th>\n",
       "      <th>hair_length</th>\n",
       "      <th>has_soul</th>\n",
       "      <th>rotting_bone</th>\n",
       "      <th>rotting_hair</th>\n",
       "      <th>rotting_soul</th>\n",
       "      <th>bone_hair</th>\n",
       "      <th>bone_soul</th>\n",
       "      <th>soul_hair</th>\n",
       "    </tr>\n",
       "  </thead>\n",
       "  <tbody>\n",
       "    <tr>\n",
       "      <th>count</th>\n",
       "      <td>371.000000</td>\n",
       "      <td>371.000000</td>\n",
       "      <td>371.000000</td>\n",
       "      <td>371.000000</td>\n",
       "      <td>371.000000</td>\n",
       "      <td>371.000000</td>\n",
       "      <td>371.000000</td>\n",
       "      <td>371.000000</td>\n",
       "      <td>371.000000</td>\n",
       "      <td>371.000000</td>\n",
       "    </tr>\n",
       "    <tr>\n",
       "      <th>mean</th>\n",
       "      <td>0.434160</td>\n",
       "      <td>0.506848</td>\n",
       "      <td>0.529114</td>\n",
       "      <td>0.471392</td>\n",
       "      <td>0.219245</td>\n",
       "      <td>0.262716</td>\n",
       "      <td>0.235530</td>\n",
       "      <td>0.237685</td>\n",
       "      <td>0.213565</td>\n",
       "      <td>0.263591</td>\n",
       "    </tr>\n",
       "    <tr>\n",
       "      <th>std</th>\n",
       "      <td>0.132833</td>\n",
       "      <td>0.146358</td>\n",
       "      <td>0.169902</td>\n",
       "      <td>0.176129</td>\n",
       "      <td>0.092707</td>\n",
       "      <td>0.103768</td>\n",
       "      <td>0.108434</td>\n",
       "      <td>0.121264</td>\n",
       "      <td>0.119618</td>\n",
       "      <td>0.147773</td>\n",
       "    </tr>\n",
       "    <tr>\n",
       "      <th>min</th>\n",
       "      <td>0.061032</td>\n",
       "      <td>0.095687</td>\n",
       "      <td>0.134600</td>\n",
       "      <td>0.009402</td>\n",
       "      <td>0.033617</td>\n",
       "      <td>0.038924</td>\n",
       "      <td>0.004360</td>\n",
       "      <td>0.023789</td>\n",
       "      <td>0.004859</td>\n",
       "      <td>0.003026</td>\n",
       "    </tr>\n",
       "    <tr>\n",
       "      <th>25%</th>\n",
       "      <td>0.340006</td>\n",
       "      <td>0.414812</td>\n",
       "      <td>0.407428</td>\n",
       "      <td>0.348002</td>\n",
       "      <td>0.148753</td>\n",
       "      <td>0.188052</td>\n",
       "      <td>0.158055</td>\n",
       "      <td>0.143756</td>\n",
       "      <td>0.117469</td>\n",
       "      <td>0.143652</td>\n",
       "    </tr>\n",
       "    <tr>\n",
       "      <th>50%</th>\n",
       "      <td>0.434891</td>\n",
       "      <td>0.501552</td>\n",
       "      <td>0.538642</td>\n",
       "      <td>0.466372</td>\n",
       "      <td>0.209022</td>\n",
       "      <td>0.253609</td>\n",
       "      <td>0.224976</td>\n",
       "      <td>0.226107</td>\n",
       "      <td>0.191900</td>\n",
       "      <td>0.244232</td>\n",
       "    </tr>\n",
       "    <tr>\n",
       "      <th>75%</th>\n",
       "      <td>0.517223</td>\n",
       "      <td>0.603977</td>\n",
       "      <td>0.647244</td>\n",
       "      <td>0.600610</td>\n",
       "      <td>0.273899</td>\n",
       "      <td>0.331280</td>\n",
       "      <td>0.303275</td>\n",
       "      <td>0.319040</td>\n",
       "      <td>0.282398</td>\n",
       "      <td>0.365027</td>\n",
       "    </tr>\n",
       "    <tr>\n",
       "      <th>max</th>\n",
       "      <td>0.817001</td>\n",
       "      <td>0.932466</td>\n",
       "      <td>1.000000</td>\n",
       "      <td>0.935721</td>\n",
       "      <td>0.527259</td>\n",
       "      <td>0.593954</td>\n",
       "      <td>0.617408</td>\n",
       "      <td>0.729292</td>\n",
       "      <td>0.686921</td>\n",
       "      <td>0.734639</td>\n",
       "    </tr>\n",
       "  </tbody>\n",
       "</table>\n",
       "</div>"
      ],
      "text/plain": [
       "       bone_length  rotting_flesh  hair_length    has_soul  rotting_bone  \\\n",
       "count   371.000000     371.000000   371.000000  371.000000    371.000000   \n",
       "mean      0.434160       0.506848     0.529114    0.471392      0.219245   \n",
       "std       0.132833       0.146358     0.169902    0.176129      0.092707   \n",
       "min       0.061032       0.095687     0.134600    0.009402      0.033617   \n",
       "25%       0.340006       0.414812     0.407428    0.348002      0.148753   \n",
       "50%       0.434891       0.501552     0.538642    0.466372      0.209022   \n",
       "75%       0.517223       0.603977     0.647244    0.600610      0.273899   \n",
       "max       0.817001       0.932466     1.000000    0.935721      0.527259   \n",
       "\n",
       "       rotting_hair  rotting_soul   bone_hair   bone_soul   soul_hair  \n",
       "count    371.000000    371.000000  371.000000  371.000000  371.000000  \n",
       "mean       0.262716      0.235530    0.237685    0.213565    0.263591  \n",
       "std        0.103768      0.108434    0.121264    0.119618    0.147773  \n",
       "min        0.038924      0.004360    0.023789    0.004859    0.003026  \n",
       "25%        0.188052      0.158055    0.143756    0.117469    0.143652  \n",
       "50%        0.253609      0.224976    0.226107    0.191900    0.244232  \n",
       "75%        0.331280      0.303275    0.319040    0.282398    0.365027  \n",
       "max        0.593954      0.617408    0.729292    0.686921    0.734639  "
      ]
     },
     "execution_count": 10,
     "metadata": {},
     "output_type": "execute_result"
    }
   ],
   "source": [
    "train_transformed['rotting_bone'] = train['rotting_flesh'] * train['bone_length']\n",
    "train_transformed['rotting_hair'] = train['rotting_flesh'] * train['hair_length']\n",
    "train_transformed['rotting_soul'] = train['rotting_flesh'] * train['has_soul']\n",
    "train_transformed['bone_hair'] = train['bone_length'] * train['hair_length']\n",
    "train_transformed['bone_soul'] = train['bone_length'] * train['has_soul']\n",
    "train_transformed['soul_hair'] = train['has_soul'] * train['hair_length']\n",
    "train_transformed.describe()"
   ]
  },
  {
   "cell_type": "code",
   "execution_count": 11,
   "metadata": {},
   "outputs": [
    {
     "name": "stdout",
     "output_type": "stream",
     "text": [
      "<class 'pandas.core.frame.DataFrame'>\n",
      "RangeIndex: 371 entries, 0 to 370\n",
      "Data columns (total 12 columns):\n",
      "bone_length      371 non-null float64\n",
      "rotting_flesh    371 non-null float64\n",
      "hair_length      371 non-null float64\n",
      "has_soul         371 non-null float64\n",
      "color            371 non-null object\n",
      "type             371 non-null object\n",
      "rotting_bone     371 non-null float64\n",
      "rotting_hair     371 non-null float64\n",
      "rotting_soul     371 non-null float64\n",
      "bone_hair        371 non-null float64\n",
      "bone_soul        371 non-null float64\n",
      "soul_hair        371 non-null float64\n",
      "dtypes: float64(10), object(2)\n",
      "memory usage: 34.9+ KB\n"
     ]
    }
   ],
   "source": [
    "train_transformed.info()"
   ]
  },
  {
   "cell_type": "code",
   "execution_count": 12,
   "metadata": {},
   "outputs": [],
   "source": [
    "from sklearn.ensemble import VotingClassifier\n",
    "from sklearn.ensemble import RandomForestClassifier\n",
    "from sklearn.tree import DecisionTreeClassifier\n",
    "from sklearn.neighbors import KNeighborsClassifier\n",
    "from sklearn.linear_model import LogisticRegression\n",
    "from sklearn.ensemble import GradientBoostingClassifier\n",
    "from sklearn.neural_network import MLPClassifier\n",
    "from sklearn.metrics import classification_report\n",
    "from sklearn.model_selection import StratifiedKFold\n",
    "from sklearn.svm import SVC\n",
    "\n",
    "from sklearn import preprocessing\n",
    "from sklearn import metrics\n",
    "from sklearn.model_selection import train_test_split\n",
    "from sklearn.model_selection import GridSearchCV"
   ]
  },
  {
   "cell_type": "code",
   "execution_count": 13,
   "metadata": {},
   "outputs": [],
   "source": [
    "X = pd.get_dummies(train_transformed.drop(['type'], axis=1))\n",
    "Y = train_transformed['type']\n",
    "\n",
    "x_train, x_test, y_train, y_test = train_test_split(X, Y, test_size=0.2, random_state=11)"
   ]
  },
  {
   "cell_type": "code",
   "execution_count": 14,
   "metadata": {},
   "outputs": [
    {
     "name": "stdout",
     "output_type": "stream",
     "text": [
      "<class 'pandas.core.frame.DataFrame'>\n",
      "Int64Index: 296 entries, 28 to 191\n",
      "Data columns (total 16 columns):\n",
      "bone_length      296 non-null float64\n",
      "rotting_flesh    296 non-null float64\n",
      "hair_length      296 non-null float64\n",
      "has_soul         296 non-null float64\n",
      "rotting_bone     296 non-null float64\n",
      "rotting_hair     296 non-null float64\n",
      "rotting_soul     296 non-null float64\n",
      "bone_hair        296 non-null float64\n",
      "bone_soul        296 non-null float64\n",
      "soul_hair        296 non-null float64\n",
      "color_black      296 non-null uint8\n",
      "color_blood      296 non-null uint8\n",
      "color_blue       296 non-null uint8\n",
      "color_clear      296 non-null uint8\n",
      "color_green      296 non-null uint8\n",
      "color_white      296 non-null uint8\n",
      "dtypes: float64(10), uint8(6)\n",
      "memory usage: 27.2 KB\n"
     ]
    }
   ],
   "source": [
    "x_train.info()"
   ]
  },
  {
   "cell_type": "code",
   "execution_count": 15,
   "metadata": {},
   "outputs": [
    {
     "data": {
      "text/plain": [
       "296"
      ]
     },
     "execution_count": 15,
     "metadata": {},
     "output_type": "execute_result"
    }
   ],
   "source": [
    "len(y_train)"
   ]
  },
  {
   "cell_type": "code",
   "execution_count": 16,
   "metadata": {},
   "outputs": [
    {
     "name": "stdout",
     "output_type": "stream",
     "text": [
      "Fitting 3 folds for each of 10 candidates, totalling 30 fits\n"
     ]
    },
    {
     "name": "stderr",
     "output_type": "stream",
     "text": [
      "[Parallel(n_jobs=-1)]: Using backend LokyBackend with 8 concurrent workers.\n"
     ]
    },
    {
     "name": "stdout",
     "output_type": "stream",
     "text": [
      "Best score: 0.7567567567567568\n",
      "Best parameters: {'C': 2, 'penalty': 'l1'}\n"
     ]
    },
    {
     "name": "stderr",
     "output_type": "stream",
     "text": [
      "[Parallel(n_jobs=-1)]: Done  30 out of  30 | elapsed:    1.9s finished\n"
     ]
    }
   ],
   "source": [
    "params = {'penalty':['l1', 'l2'], 'C':[1, 2, 3, 5, 10]}\n",
    "\n",
    "lr = LogisticRegression()\n",
    "clf = GridSearchCV(lr, param_grid = params, verbose=1, n_jobs = -1)\n",
    "clf.fit(x_train, y_train)\n",
    "print('Best score: {}'.format(clf.best_score_))\n",
    "print('Best parameters: {}'.format(clf.best_params_))\n"
   ]
  },
  {
   "cell_type": "code",
   "execution_count": 17,
   "metadata": {},
   "outputs": [
    {
     "data": {
      "text/plain": [
       "0.7333333333333333"
      ]
     },
     "execution_count": 17,
     "metadata": {},
     "output_type": "execute_result"
    }
   ],
   "source": [
    "log_best = clf.best_estimator_\n",
    "log_best.score(x_test, y_test)"
   ]
  },
  {
   "cell_type": "code",
   "execution_count": 18,
   "metadata": {},
   "outputs": [
    {
     "name": "stdout",
     "output_type": "stream",
     "text": [
      "Fitting 3 folds for each of 12 candidates, totalling 36 fits\n"
     ]
    },
    {
     "name": "stderr",
     "output_type": "stream",
     "text": [
      "[Parallel(n_jobs=-1)]: Using backend LokyBackend with 8 concurrent workers.\n"
     ]
    },
    {
     "name": "stdout",
     "output_type": "stream",
     "text": [
      "[LibSVM]Best score: 0.7398648648648649\n",
      "Best parameters: {'C': 10, 'kernel': 'rbf'}\n"
     ]
    },
    {
     "name": "stderr",
     "output_type": "stream",
     "text": [
      "[Parallel(n_jobs=-1)]: Done  36 out of  36 | elapsed:    0.4s finished\n",
      "c:\\users\\shanu\\anaconda3\\envs\\dl-udacity-pytorch\\lib\\site-packages\\sklearn\\model_selection\\_search.py:841: DeprecationWarning: The default of the `iid` parameter will change from True to False in version 0.22 and will be removed in 0.24. This will change numeric results when test-set sizes are unequal.\n",
      "  DeprecationWarning)\n"
     ]
    }
   ],
   "source": [
    "params = {'C': [1, 3, 5, 10], 'kernel': ['rbf', 'poly', 'linear']}\n",
    "\n",
    "svc = SVC(verbose=1, probability=True)\n",
    "clf = GridSearchCV(svc, param_grid=params, verbose=1, n_jobs=-1)\n",
    "clf.fit(x_train, y_train)\n",
    "\n",
    "print('Best score: {}'.format(clf.best_score_))\n",
    "print('Best parameters: {}'.format(clf.best_params_))"
   ]
  },
  {
   "cell_type": "code",
   "execution_count": 19,
   "metadata": {},
   "outputs": [
    {
     "data": {
      "text/plain": [
       "0.68"
      ]
     },
     "execution_count": 19,
     "metadata": {},
     "output_type": "execute_result"
    }
   ],
   "source": [
    "svc_best = clf.best_estimator_\n",
    "svc_best.score(x_test,y_test)"
   ]
  },
  {
   "cell_type": "code",
   "execution_count": 20,
   "metadata": {},
   "outputs": [
    {
     "name": "stdout",
     "output_type": "stream",
     "text": [
      "Fitting 3 folds for each of 128 candidates, totalling 384 fits\n"
     ]
    },
    {
     "name": "stderr",
     "output_type": "stream",
     "text": [
      "[Parallel(n_jobs=-1)]: Using backend LokyBackend with 8 concurrent workers.\n",
      "[Parallel(n_jobs=-1)]: Done  88 tasks      | elapsed:    1.9s\n"
     ]
    },
    {
     "name": "stdout",
     "output_type": "stream",
     "text": [
      "Best score: 0.7601351351351351\n",
      "Best parameters: {'criterion': 'entropy', 'max_depth': 5, 'max_features': 4, 'n_estimators': 50}\n"
     ]
    },
    {
     "name": "stderr",
     "output_type": "stream",
     "text": [
      "[Parallel(n_jobs=-1)]: Done 384 out of 384 | elapsed:    8.7s finished\n",
      "c:\\users\\shanu\\anaconda3\\envs\\dl-udacity-pytorch\\lib\\site-packages\\sklearn\\model_selection\\_search.py:841: DeprecationWarning: The default of the `iid` parameter will change from True to False in version 0.22 and will be removed in 0.24. This will change numeric results when test-set sizes are unequal.\n",
      "  DeprecationWarning)\n"
     ]
    }
   ],
   "source": [
    "params = {'n_estimators': [20, 50, 100, 200], 'criterion': ['gini', 'entropy'], 'max_depth': [None, 5, 10, 20],\n",
    "          'max_features': [2, 4, 6, 8]}\n",
    "\n",
    "rf = RandomForestClassifier()\n",
    "clf = GridSearchCV(rf, param_grid=params, n_jobs=-1, verbose=1)\n",
    "clf.fit(x_train, y_train)\n",
    "print('Best score: {}'.format(clf.best_score_))\n",
    "print('Best parameters: {}'.format(clf.best_params_))"
   ]
  },
  {
   "cell_type": "code",
   "execution_count": 21,
   "metadata": {},
   "outputs": [
    {
     "data": {
      "text/plain": [
       "0.7066666666666667"
      ]
     },
     "execution_count": 21,
     "metadata": {},
     "output_type": "execute_result"
    }
   ],
   "source": [
    "rf_best = clf.best_estimator_\n",
    "rf_best.score(x_test,y_test)"
   ]
  },
  {
   "cell_type": "code",
   "execution_count": 22,
   "metadata": {},
   "outputs": [
    {
     "name": "stdout",
     "output_type": "stream",
     "text": [
      "              precision    recall  f1-score   support\n",
      "\n",
      "       Ghost       0.81      0.88      0.85        25\n",
      "       Ghoul       0.75      0.67      0.71        27\n",
      "      Goblin       0.54      0.57      0.55        23\n",
      "\n",
      "   micro avg       0.71      0.71      0.71        75\n",
      "   macro avg       0.70      0.70      0.70        75\n",
      "weighted avg       0.71      0.71      0.71        75\n",
      "\n"
     ]
    }
   ],
   "source": [
    "y_pred = rf_best.predict(x_test)\n",
    "from sklearn.metrics import classification_report\n",
    "print(classification_report(y_test, y_pred))"
   ]
  },
  {
   "cell_type": "code",
   "execution_count": 23,
   "metadata": {},
   "outputs": [
    {
     "data": {
      "text/plain": [
       "array([5.11568456e-02, 8.01968525e-02, 1.02529800e-01, 9.54657773e-02,\n",
       "       4.50853222e-02, 5.36867370e-02, 5.16709744e-02, 1.41229387e-01,\n",
       "       1.53789559e-01, 2.11853331e-01, 2.07485124e-03, 3.40848194e-05,\n",
       "       1.41306143e-03, 2.67100979e-03, 5.91649224e-03, 1.22591563e-03])"
      ]
     },
     "execution_count": 23,
     "metadata": {},
     "output_type": "execute_result"
    }
   ],
   "source": [
    "rf_best.feature_importances_"
   ]
  },
  {
   "cell_type": "code",
   "execution_count": 24,
   "metadata": {},
   "outputs": [
    {
     "name": "stdout",
     "output_type": "stream",
     "text": [
      "Fitting 3 folds for each of 60 candidates, totalling 180 fits\n"
     ]
    },
    {
     "name": "stderr",
     "output_type": "stream",
     "text": [
      "[Parallel(n_jobs=-1)]: Using backend LokyBackend with 8 concurrent workers.\n",
      "[Parallel(n_jobs=-1)]: Done  52 tasks      | elapsed:    3.4s\n"
     ]
    },
    {
     "name": "stdout",
     "output_type": "stream",
     "text": [
      "Best score: 0.7567567567567568\n",
      "Best parameters: {'learning_rate': 0.05, 'loss': 'deviance', 'max_features': 4, 'n_estimators': 50}\n"
     ]
    },
    {
     "name": "stderr",
     "output_type": "stream",
     "text": [
      "[Parallel(n_jobs=-1)]: Done 180 out of 180 | elapsed:   10.4s finished\n",
      "c:\\users\\shanu\\anaconda3\\envs\\dl-udacity-pytorch\\lib\\site-packages\\sklearn\\model_selection\\_search.py:841: DeprecationWarning: The default of the `iid` parameter will change from True to False in version 0.22 and will be removed in 0.24. This will change numeric results when test-set sizes are unequal.\n",
      "  DeprecationWarning)\n"
     ]
    }
   ],
   "source": [
    "params = {'n_estimators': [50, 100, 200, 400], 'loss': ['deviance'], 'learning_rate': [0.05, 0.1, 0.5],\n",
    "          'max_features': [2, 4, 6, 8, 10]}\n",
    "\n",
    "gbm = GradientBoostingClassifier()\n",
    "clf = GridSearchCV(gbm, param_grid=params, n_jobs=-1, verbose=1)\n",
    "clf.fit(x_train, y_train)\n",
    "print('Best score: {}'.format(clf.best_score_))\n",
    "print('Best parameters: {}'.format(clf.best_params_))"
   ]
  },
  {
   "cell_type": "code",
   "execution_count": 25,
   "metadata": {},
   "outputs": [
    {
     "data": {
      "text/plain": [
       "0.68"
      ]
     },
     "execution_count": 25,
     "metadata": {},
     "output_type": "execute_result"
    }
   ],
   "source": [
    "gbm_best = clf.best_estimator_\n",
    "gbm_best.score(x_test,y_test)"
   ]
  },
  {
   "cell_type": "code",
   "execution_count": 26,
   "metadata": {},
   "outputs": [
    {
     "name": "stdout",
     "output_type": "stream",
     "text": [
      "              precision    recall  f1-score   support\n",
      "\n",
      "       Ghost       0.79      0.76      0.78        25\n",
      "       Ghoul       0.76      0.70      0.73        27\n",
      "      Goblin       0.50      0.57      0.53        23\n",
      "\n",
      "   micro avg       0.68      0.68      0.68        75\n",
      "   macro avg       0.68      0.68      0.68        75\n",
      "weighted avg       0.69      0.68      0.68        75\n",
      "\n"
     ]
    }
   ],
   "source": [
    "y_pred = gbm_best.predict(x_test)\n",
    "from sklearn.metrics import classification_report\n",
    "print(classification_report(y_test, y_pred))"
   ]
  },
  {
   "cell_type": "code",
   "execution_count": 27,
   "metadata": {},
   "outputs": [
    {
     "name": "stdout",
     "output_type": "stream",
     "text": [
      "Fitting 3 folds for each of 32 candidates, totalling 96 fits\n"
     ]
    },
    {
     "name": "stderr",
     "output_type": "stream",
     "text": [
      "[Parallel(n_jobs=-1)]: Using backend LokyBackend with 8 concurrent workers.\n"
     ]
    },
    {
     "name": "stdout",
     "output_type": "stream",
     "text": [
      "Best Score 0.6722972972972973\n",
      "Best Params {'n_neighbors': 5, 'p': 5, 'weights': 'distance'}\n"
     ]
    },
    {
     "name": "stderr",
     "output_type": "stream",
     "text": [
      "[Parallel(n_jobs=-1)]: Done  96 out of  96 | elapsed:    0.4s finished\n",
      "c:\\users\\shanu\\anaconda3\\envs\\dl-udacity-pytorch\\lib\\site-packages\\sklearn\\model_selection\\_search.py:841: DeprecationWarning: The default of the `iid` parameter will change from True to False in version 0.22 and will be removed in 0.24. This will change numeric results when test-set sizes are unequal.\n",
      "  DeprecationWarning)\n"
     ]
    }
   ],
   "source": [
    "params = {'n_neighbors' : [3, 5, 10, 15], 'p' : [1, 2, 5, 10], 'weights':['uniform', 'distance']}\n",
    "\n",
    "knn = KNeighborsClassifier()\n",
    "clf = GridSearchCV(knn, param_grid=params, verbose=1, n_jobs=-1)\n",
    "clf.fit(x_train, y_train)\n",
    "print('Best Score {}'.format(clf.best_score_))\n",
    "print('Best Params {}'.format(clf.best_params_))"
   ]
  },
  {
   "cell_type": "code",
   "execution_count": 28,
   "metadata": {},
   "outputs": [
    {
     "data": {
      "text/plain": [
       "0.6133333333333333"
      ]
     },
     "execution_count": 28,
     "metadata": {},
     "output_type": "execute_result"
    }
   ],
   "source": [
    "knn_best = clf.best_estimator_\n",
    "knn_best.score(x_test, y_test)"
   ]
  },
  {
   "cell_type": "code",
   "execution_count": 29,
   "metadata": {},
   "outputs": [
    {
     "name": "stdout",
     "output_type": "stream",
     "text": [
      "              precision    recall  f1-score   support\n",
      "\n",
      "       Ghost       0.81      0.68      0.74        25\n",
      "       Ghoul       0.71      0.56      0.63        27\n",
      "      Goblin       0.42      0.61      0.50        23\n",
      "\n",
      "   micro avg       0.61      0.61      0.61        75\n",
      "   macro avg       0.65      0.61      0.62        75\n",
      "weighted avg       0.66      0.61      0.62        75\n",
      "\n"
     ]
    }
   ],
   "source": [
    "y_pred = knn_best.predict(x_test)\n",
    "print(classification_report(y_test, y_pred))"
   ]
  },
  {
   "cell_type": "code",
   "execution_count": 30,
   "metadata": {},
   "outputs": [
    {
     "name": "stdout",
     "output_type": "stream",
     "text": [
      "Fitting 3 folds for each of 96 candidates, totalling 288 fits\n"
     ]
    },
    {
     "name": "stderr",
     "output_type": "stream",
     "text": [
      "[Parallel(n_jobs=1)]: Using backend SequentialBackend with 1 concurrent workers.\n"
     ]
    },
    {
     "name": "stdout",
     "output_type": "stream",
     "text": [
      "Best score: 0.7533783783783784\n",
      "Best parameters: {'activation': 'relu', 'alpha': 0.1, 'hidden_layer_sizes': 10, 'learning_rate': 'constant', 'solver': 'lbfgs'}\n"
     ]
    },
    {
     "name": "stderr",
     "output_type": "stream",
     "text": [
      "[Parallel(n_jobs=1)]: Done 288 out of 288 | elapsed:   19.1s finished\n",
      "c:\\users\\shanu\\anaconda3\\envs\\dl-udacity-pytorch\\lib\\site-packages\\sklearn\\model_selection\\_search.py:841: DeprecationWarning: The default of the `iid` parameter will change from True to False in version 0.22 and will be removed in 0.24. This will change numeric results when test-set sizes are unequal.\n",
      "  DeprecationWarning)\n"
     ]
    }
   ],
   "source": [
    "\n",
    "params = {'activation':['logistic','relu'], 'hidden_layer_sizes':[10,15,25], 'alpha':[1e-4, 1e-3, 1e-2, 1e-1], 'solver':['lbfgs','sgd'], 'learning_rate':['constant', 'adaptive']}\n",
    "\n",
    "nnet = MLPClassifier()\n",
    "clf = GridSearchCV(nnet, param_grid=params, verbose=1)\n",
    "clf.fit(x_train, y_train)\n",
    "\n",
    "print('Best score: {}'.format(clf.best_score_))\n",
    "print('Best parameters: {}'.format(clf.best_params_))"
   ]
  },
  {
   "cell_type": "code",
   "execution_count": 31,
   "metadata": {},
   "outputs": [
    {
     "data": {
      "text/plain": [
       "0.7333333333333333"
      ]
     },
     "execution_count": 31,
     "metadata": {},
     "output_type": "execute_result"
    }
   ],
   "source": [
    "nnet_best = clf.best_estimator_\n",
    "nnet_best.score(x_test, y_test)"
   ]
  },
  {
   "cell_type": "code",
   "execution_count": 71,
   "metadata": {},
   "outputs": [
    {
     "name": "stdout",
     "output_type": "stream",
     "text": [
      "Fitting 3 folds for each of 64 candidates, totalling 192 fits\n"
     ]
    },
    {
     "name": "stderr",
     "output_type": "stream",
     "text": [
      "[Parallel(n_jobs=-1)]: Using backend LokyBackend with 8 concurrent workers.\n",
      "[Parallel(n_jobs=-1)]: Done  34 tasks      | elapsed:   19.3s\n",
      "[Parallel(n_jobs=-1)]: Done 192 out of 192 | elapsed:   27.1s finished\n",
      "c:\\users\\shanu\\anaconda3\\envs\\dl-udacity-pytorch\\lib\\site-packages\\sklearn\\model_selection\\_search.py:841: DeprecationWarning: The default of the `iid` parameter will change from True to False in version 0.22 and will be removed in 0.24. This will change numeric results when test-set sizes are unequal.\n",
      "  DeprecationWarning)\n"
     ]
    },
    {
     "name": "stdout",
     "output_type": "stream",
     "text": [
      "Best score: 0.7466216216216216\n",
      "Best parameters: {'learning_rate': 0.05, 'max_depth': 3, 'n_estimators': 100}\n"
     ]
    }
   ],
   "source": [
    "from xgboost.sklearn import XGBClassifier\n",
    "params = {'n_estimators': [20, 50, 100, 200], 'learning_rate': [0.01, 0.05, 0.1, 0.5], 'max_depth': [3, 5, 10, 20]}\n",
    "\n",
    "xgb = XGBClassifier(verbosity=1)\n",
    "clf = GridSearchCV(xgb, param_grid=params, n_jobs=-1, verbose=1)\n",
    "clf.fit(x_train, y_train)\n",
    "\n",
    "print('Best score: {}'.format(clf.best_score_))\n",
    "print('Best parameters: {}'.format(clf.best_params_))"
   ]
  },
  {
   "cell_type": "code",
   "execution_count": 72,
   "metadata": {},
   "outputs": [
    {
     "data": {
      "text/plain": [
       "0.6666666666666666"
      ]
     },
     "execution_count": 72,
     "metadata": {},
     "output_type": "execute_result"
    }
   ],
   "source": [
    "xgb_best = clf.best_estimator_\n",
    "xgb_best.score(x_test, y_test)"
   ]
  },
  {
   "cell_type": "markdown",
   "metadata": {},
   "source": [
    "Ensembling by voting"
   ]
  },
  {
   "cell_type": "code",
   "execution_count": 75,
   "metadata": {},
   "outputs": [
    {
     "name": "stdout",
     "output_type": "stream",
     "text": [
      "[LibSVM]0.902027027027027\n",
      "0.68\n"
     ]
    }
   ],
   "source": [
    "voted_class = VotingClassifier(estimators=[('logistic', log_best),('svc', svc_best), ('rf', rf_best), ('gbm', gbm_best), \n",
    "                                           ('knn', knn_best), ('xgb', xgb_best), ('nnet', nnet_best)], voting='hard')\n",
    "\n",
    "voted_class.fit(x_train, y_train)\n",
    "print(voted_class.score(x_train, y_train))\n",
    "print(voted_class.score(x_test, y_test))"
   ]
  },
  {
   "cell_type": "markdown",
   "metadata": {},
   "source": [
    "Stacking Ensemble"
   ]
  },
  {
   "cell_type": "code",
   "execution_count": 74,
   "metadata": {},
   "outputs": [],
   "source": [
    "def Stacking(model, x_train, y_train, test, n_fold):\n",
    "    folds = StratifiedKFold(n_splits=n_fold)\n",
    "    test_pred=np.empty((0))\n",
    "    train_pred = np.empty((0))\n",
    "    \n",
    "    for train_idx, val_idx in folds.split(x_train, y_train):\n",
    "        X_train, X_val, Y_train, Y_val = x_train.iloc[train_idx], x_train.iloc[val_idx], y_train.iloc[train_idx], y_train.iloc[val_idx]\n",
    "        \n",
    "        model.fit(X_train, Y_train)\n",
    "        train_pred = np.append(train_pred, model.predict(X_val), axis=0)\n",
    "        \n",
    "    test_pred = np.append(test_pred, model.predict(test), axis=0)\n",
    "    return test_pred, train_pred\n",
    "        "
   ]
  },
  {
   "cell_type": "code",
   "execution_count": 76,
   "metadata": {},
   "outputs": [
    {
     "name": "stdout",
     "output_type": "stream",
     "text": [
      "LogisticRegression(C=2, class_weight=None, dual=False, fit_intercept=True,\n",
      "          intercept_scaling=1, max_iter=100, multi_class='warn',\n",
      "          n_jobs=None, penalty='l1', random_state=None, solver='warn',\n",
      "          tol=0.0001, verbose=0, warm_start=False)\n",
      "SVC(C=10, cache_size=200, class_weight=None, coef0=0.0,\n",
      "  decision_function_shape='ovr', degree=3, gamma='auto_deprecated',\n",
      "  kernel='rbf', max_iter=-1, probability=True, random_state=None,\n",
      "  shrinking=True, tol=0.001, verbose=1)\n",
      "[LibSVM][LibSVM][LibSVM][LibSVM][LibSVM]RandomForestClassifier(bootstrap=True, class_weight=None, criterion='entropy',\n",
      "            max_depth=5, max_features=4, max_leaf_nodes=None,\n",
      "            min_impurity_decrease=0.0, min_impurity_split=None,\n",
      "            min_samples_leaf=1, min_samples_split=2,\n",
      "            min_weight_fraction_leaf=0.0, n_estimators=50, n_jobs=None,\n",
      "            oob_score=False, random_state=None, verbose=0,\n",
      "            warm_start=False)\n",
      "GradientBoostingClassifier(criterion='friedman_mse', init=None,\n",
      "              learning_rate=0.05, loss='deviance', max_depth=3,\n",
      "              max_features=4, max_leaf_nodes=None,\n",
      "              min_impurity_decrease=0.0, min_impurity_split=None,\n",
      "              min_samples_leaf=1, min_samples_split=2,\n",
      "              min_weight_fraction_leaf=0.0, n_estimators=50,\n",
      "              n_iter_no_change=None, presort='auto', random_state=None,\n",
      "              subsample=1.0, tol=0.0001, validation_fraction=0.1,\n",
      "              verbose=0, warm_start=False)\n",
      "KNeighborsClassifier(algorithm='auto', leaf_size=30, metric='minkowski',\n",
      "           metric_params=None, n_jobs=None, n_neighbors=5, p=5,\n",
      "           weights='distance')\n",
      "XGBClassifier(base_score=0.5, booster='gbtree', colsample_bylevel=1,\n",
      "       colsample_bynode=1, colsample_bytree=1, gamma=0, learning_rate=0.05,\n",
      "       max_delta_step=0, max_depth=3, min_child_weight=1, missing=None,\n",
      "       n_estimators=100, n_jobs=1, nthread=None,\n",
      "       objective='multi:softprob', random_state=0, reg_alpha=0,\n",
      "       reg_lambda=1, scale_pos_weight=1, seed=None, silent=None,\n",
      "       subsample=1, verbosity=1)\n",
      "MLPClassifier(activation='relu', alpha=0.1, batch_size='auto', beta_1=0.9,\n",
      "       beta_2=0.999, early_stopping=False, epsilon=1e-08,\n",
      "       hidden_layer_sizes=10, learning_rate='constant',\n",
      "       learning_rate_init=0.001, max_iter=200, momentum=0.9,\n",
      "       n_iter_no_change=10, nesterovs_momentum=True, power_t=0.5,\n",
      "       random_state=None, shuffle=True, solver='lbfgs', tol=0.0001,\n",
      "       validation_fraction=0.1, verbose=False, warm_start=False)\n"
     ]
    }
   ],
   "source": [
    "models = [log_best, svc_best, rf_best, gbm_best, knn_best, xgb_best, nnet_best]\n",
    "df_ensemble_train = pd.DataFrame()\n",
    "df_ensemble_test = pd.DataFrame()\n",
    "\n",
    "for model in models:\n",
    "    print(model)\n",
    "    test_pred, train_pred = Stacking(model, x_train, y_train, x_test, 5)\n",
    "    \n",
    "    test_df = pd.DataFrame(test_pred)\n",
    "    train_df = pd.DataFrame(train_pred)\n",
    "    \n",
    "    df_ensemble_train = pd.concat([df_ensemble_train, train_df], axis=1)\n",
    "    df_ensemble_test = pd.concat([df_ensemble_test, test_df], axis=1)\n",
    "\n"
   ]
  },
  {
   "cell_type": "code",
   "execution_count": 77,
   "metadata": {},
   "outputs": [],
   "source": [
    "df_ensemble_train_dummies = pd.get_dummies(df_ensemble_train)\n",
    "df_ensemble_test_dummies = pd.get_dummies(df_ensemble_test)"
   ]
  },
  {
   "cell_type": "code",
   "execution_count": 78,
   "metadata": {},
   "outputs": [
    {
     "data": {
      "text/plain": [
       "0.6133333333333333"
      ]
     },
     "execution_count": 78,
     "metadata": {},
     "output_type": "execute_result"
    }
   ],
   "source": [
    "final_ensemble = LogisticRegression(penalty='l1', C=2)\n",
    "final_ensemble.fit(df_ensemble_train_dummies, y_train)\n",
    "final_ensemble.score(df_ensemble_test_dummies, y_test)"
   ]
  },
  {
   "cell_type": "markdown",
   "metadata": {},
   "source": [
    "Creating submission"
   ]
  },
  {
   "cell_type": "code",
   "execution_count": 79,
   "metadata": {},
   "outputs": [],
   "source": [
    "test = pd.read_csv('../Data/Test/test.csv')"
   ]
  },
  {
   "cell_type": "code",
   "execution_count": 80,
   "metadata": {},
   "outputs": [],
   "source": [
    "test_transformed = test.copy()"
   ]
  },
  {
   "cell_type": "code",
   "execution_count": 81,
   "metadata": {},
   "outputs": [
    {
     "data": {
      "text/html": [
       "<div>\n",
       "<style scoped>\n",
       "    .dataframe tbody tr th:only-of-type {\n",
       "        vertical-align: middle;\n",
       "    }\n",
       "\n",
       "    .dataframe tbody tr th {\n",
       "        vertical-align: top;\n",
       "    }\n",
       "\n",
       "    .dataframe thead th {\n",
       "        text-align: right;\n",
       "    }\n",
       "</style>\n",
       "<table border=\"1\" class=\"dataframe\">\n",
       "  <thead>\n",
       "    <tr style=\"text-align: right;\">\n",
       "      <th></th>\n",
       "      <th>bone_length</th>\n",
       "      <th>rotting_flesh</th>\n",
       "      <th>hair_length</th>\n",
       "      <th>has_soul</th>\n",
       "      <th>rotting_bone</th>\n",
       "      <th>rotting_hair</th>\n",
       "      <th>rotting_soul</th>\n",
       "      <th>bone_hair</th>\n",
       "      <th>bone_soul</th>\n",
       "      <th>soul_hair</th>\n",
       "    </tr>\n",
       "  </thead>\n",
       "  <tbody>\n",
       "    <tr>\n",
       "      <th>count</th>\n",
       "      <td>529.000000</td>\n",
       "      <td>529.000000</td>\n",
       "      <td>529.000000</td>\n",
       "      <td>529.000000</td>\n",
       "      <td>529.000000</td>\n",
       "      <td>529.000000</td>\n",
       "      <td>529.000000</td>\n",
       "      <td>529.000000</td>\n",
       "      <td>529.000000</td>\n",
       "      <td>529.000000</td>\n",
       "    </tr>\n",
       "    <tr>\n",
       "      <th>mean</th>\n",
       "      <td>0.425474</td>\n",
       "      <td>0.503637</td>\n",
       "      <td>0.517288</td>\n",
       "      <td>0.464096</td>\n",
       "      <td>0.213557</td>\n",
       "      <td>0.255484</td>\n",
       "      <td>0.228791</td>\n",
       "      <td>0.229777</td>\n",
       "      <td>0.207087</td>\n",
       "      <td>0.255499</td>\n",
       "    </tr>\n",
       "    <tr>\n",
       "      <th>std</th>\n",
       "      <td>0.136079</td>\n",
       "      <td>0.158552</td>\n",
       "      <td>0.171727</td>\n",
       "      <td>0.179659</td>\n",
       "      <td>0.099478</td>\n",
       "      <td>0.113061</td>\n",
       "      <td>0.113111</td>\n",
       "      <td>0.124416</td>\n",
       "      <td>0.117950</td>\n",
       "      <td>0.149750</td>\n",
       "    </tr>\n",
       "    <tr>\n",
       "      <th>min</th>\n",
       "      <td>0.000000</td>\n",
       "      <td>0.000000</td>\n",
       "      <td>0.000000</td>\n",
       "      <td>0.000000</td>\n",
       "      <td>0.000000</td>\n",
       "      <td>0.000000</td>\n",
       "      <td>0.000000</td>\n",
       "      <td>0.000000</td>\n",
       "      <td>0.000000</td>\n",
       "      <td>0.000000</td>\n",
       "    </tr>\n",
       "    <tr>\n",
       "      <th>25%</th>\n",
       "      <td>0.329383</td>\n",
       "      <td>0.393987</td>\n",
       "      <td>0.388189</td>\n",
       "      <td>0.338964</td>\n",
       "      <td>0.146121</td>\n",
       "      <td>0.174843</td>\n",
       "      <td>0.151532</td>\n",
       "      <td>0.131388</td>\n",
       "      <td>0.108832</td>\n",
       "      <td>0.125821</td>\n",
       "    </tr>\n",
       "    <tr>\n",
       "      <th>50%</th>\n",
       "      <td>0.421989</td>\n",
       "      <td>0.510065</td>\n",
       "      <td>0.520220</td>\n",
       "      <td>0.461294</td>\n",
       "      <td>0.202598</td>\n",
       "      <td>0.240838</td>\n",
       "      <td>0.209254</td>\n",
       "      <td>0.214394</td>\n",
       "      <td>0.194443</td>\n",
       "      <td>0.246550</td>\n",
       "    </tr>\n",
       "    <tr>\n",
       "      <th>75%</th>\n",
       "      <td>0.519024</td>\n",
       "      <td>0.605957</td>\n",
       "      <td>0.644824</td>\n",
       "      <td>0.584448</td>\n",
       "      <td>0.263245</td>\n",
       "      <td>0.318522</td>\n",
       "      <td>0.295496</td>\n",
       "      <td>0.319025</td>\n",
       "      <td>0.280278</td>\n",
       "      <td>0.360199</td>\n",
       "    </tr>\n",
       "    <tr>\n",
       "      <th>max</th>\n",
       "      <td>1.000000</td>\n",
       "      <td>1.000000</td>\n",
       "      <td>0.999841</td>\n",
       "      <td>1.000000</td>\n",
       "      <td>0.788660</td>\n",
       "      <td>0.747823</td>\n",
       "      <td>0.719490</td>\n",
       "      <td>0.777894</td>\n",
       "      <td>0.614270</td>\n",
       "      <td>0.776788</td>\n",
       "    </tr>\n",
       "  </tbody>\n",
       "</table>\n",
       "</div>"
      ],
      "text/plain": [
       "       bone_length  rotting_flesh  hair_length    has_soul  rotting_bone  \\\n",
       "count   529.000000     529.000000   529.000000  529.000000    529.000000   \n",
       "mean      0.425474       0.503637     0.517288    0.464096      0.213557   \n",
       "std       0.136079       0.158552     0.171727    0.179659      0.099478   \n",
       "min       0.000000       0.000000     0.000000    0.000000      0.000000   \n",
       "25%       0.329383       0.393987     0.388189    0.338964      0.146121   \n",
       "50%       0.421989       0.510065     0.520220    0.461294      0.202598   \n",
       "75%       0.519024       0.605957     0.644824    0.584448      0.263245   \n",
       "max       1.000000       1.000000     0.999841    1.000000      0.788660   \n",
       "\n",
       "       rotting_hair  rotting_soul   bone_hair   bone_soul   soul_hair  \n",
       "count    529.000000    529.000000  529.000000  529.000000  529.000000  \n",
       "mean       0.255484      0.228791    0.229777    0.207087    0.255499  \n",
       "std        0.113061      0.113111    0.124416    0.117950    0.149750  \n",
       "min        0.000000      0.000000    0.000000    0.000000    0.000000  \n",
       "25%        0.174843      0.151532    0.131388    0.108832    0.125821  \n",
       "50%        0.240838      0.209254    0.214394    0.194443    0.246550  \n",
       "75%        0.318522      0.295496    0.319025    0.280278    0.360199  \n",
       "max        0.747823      0.719490    0.777894    0.614270    0.776788  "
      ]
     },
     "execution_count": 81,
     "metadata": {},
     "output_type": "execute_result"
    }
   ],
   "source": [
    "test_transformed['rotting_bone'] = test['rotting_flesh'] * test['bone_length']\n",
    "test_transformed['rotting_hair'] = test['rotting_flesh'] * test['hair_length']\n",
    "test_transformed['rotting_soul'] = test['rotting_flesh'] * test['has_soul']\n",
    "test_transformed['bone_hair'] = test['bone_length'] * test['hair_length']\n",
    "test_transformed['bone_soul'] = test['bone_length'] * test['has_soul']\n",
    "test_transformed['soul_hair'] = test['has_soul'] * test['hair_length']\n",
    "test_transformed.drop(columns='id', inplace=True)\n",
    "test_transformed.describe()"
   ]
  },
  {
   "cell_type": "code",
   "execution_count": 82,
   "metadata": {},
   "outputs": [],
   "source": [
    "test_dummy = pd.get_dummies(test_transformed)"
   ]
  },
  {
   "cell_type": "code",
   "execution_count": 85,
   "metadata": {},
   "outputs": [
    {
     "name": "stdout",
     "output_type": "stream",
     "text": [
      "LogisticRegression(C=2, class_weight=None, dual=False, fit_intercept=True,\n",
      "          intercept_scaling=1, max_iter=100, multi_class='warn',\n",
      "          n_jobs=None, penalty='l1', random_state=None, solver='warn',\n",
      "          tol=0.0001, verbose=0, warm_start=False)\n",
      "SVC(C=10, cache_size=200, class_weight=None, coef0=0.0,\n",
      "  decision_function_shape='ovr', degree=3, gamma='auto_deprecated',\n",
      "  kernel='rbf', max_iter=-1, probability=True, random_state=None,\n",
      "  shrinking=True, tol=0.001, verbose=1)\n",
      "RandomForestClassifier(bootstrap=True, class_weight=None, criterion='entropy',\n",
      "            max_depth=5, max_features=4, max_leaf_nodes=None,\n",
      "            min_impurity_decrease=0.0, min_impurity_split=None,\n",
      "            min_samples_leaf=1, min_samples_split=2,\n",
      "            min_weight_fraction_leaf=0.0, n_estimators=50, n_jobs=None,\n",
      "            oob_score=False, random_state=None, verbose=0,\n",
      "            warm_start=False)\n",
      "GradientBoostingClassifier(criterion='friedman_mse', init=None,\n",
      "              learning_rate=0.05, loss='deviance', max_depth=3,\n",
      "              max_features=4, max_leaf_nodes=None,\n",
      "              min_impurity_decrease=0.0, min_impurity_split=None,\n",
      "              min_samples_leaf=1, min_samples_split=2,\n",
      "              min_weight_fraction_leaf=0.0, n_estimators=50,\n",
      "              n_iter_no_change=None, presort='auto', random_state=None,\n",
      "              subsample=1.0, tol=0.0001, validation_fraction=0.1,\n",
      "              verbose=0, warm_start=False)\n",
      "KNeighborsClassifier(algorithm='auto', leaf_size=30, metric='minkowski',\n",
      "           metric_params=None, n_jobs=None, n_neighbors=5, p=5,\n",
      "           weights='distance')\n",
      "XGBClassifier(base_score=0.5, booster='gbtree', colsample_bylevel=1,\n",
      "       colsample_bynode=1, colsample_bytree=1, gamma=0, learning_rate=0.05,\n",
      "       max_delta_step=0, max_depth=3, min_child_weight=1, missing=None,\n",
      "       n_estimators=100, n_jobs=1, nthread=None,\n",
      "       objective='multi:softprob', random_state=0, reg_alpha=0,\n",
      "       reg_lambda=1, scale_pos_weight=1, seed=None, silent=None,\n",
      "       subsample=1, verbosity=1)\n",
      "MLPClassifier(activation='relu', alpha=0.1, batch_size='auto', beta_1=0.9,\n",
      "       beta_2=0.999, early_stopping=False, epsilon=1e-08,\n",
      "       hidden_layer_sizes=10, learning_rate='constant',\n",
      "       learning_rate_init=0.001, max_iter=200, momentum=0.9,\n",
      "       n_iter_no_change=10, nesterovs_momentum=True, power_t=0.5,\n",
      "       random_state=None, shuffle=True, solver='lbfgs', tol=0.0001,\n",
      "       validation_fraction=0.1, verbose=False, warm_start=False)\n"
     ]
    }
   ],
   "source": [
    "models = [log_best, svc_best, rf_best, gbm_best, knn_best, xgb_best, nnet_best]\n",
    "df_ensemble_submission = pd.DataFrame()\n",
    "\n",
    "for model in models:\n",
    "    print(model)\n",
    "    test_pred = model.predict(test_dummy)\n",
    "    \n",
    "    test_df = pd.DataFrame(test_pred)\n",
    "    \n",
    "    df_ensemble_submission = pd.concat([df_ensemble_submission, test_df], axis=1)"
   ]
  },
  {
   "cell_type": "code",
   "execution_count": 86,
   "metadata": {},
   "outputs": [
    {
     "data": {
      "text/html": [
       "<div>\n",
       "<style scoped>\n",
       "    .dataframe tbody tr th:only-of-type {\n",
       "        vertical-align: middle;\n",
       "    }\n",
       "\n",
       "    .dataframe tbody tr th {\n",
       "        vertical-align: top;\n",
       "    }\n",
       "\n",
       "    .dataframe thead th {\n",
       "        text-align: right;\n",
       "    }\n",
       "</style>\n",
       "<table border=\"1\" class=\"dataframe\">\n",
       "  <thead>\n",
       "    <tr style=\"text-align: right;\">\n",
       "      <th></th>\n",
       "      <th>0</th>\n",
       "      <th>0</th>\n",
       "      <th>0</th>\n",
       "      <th>0</th>\n",
       "      <th>0</th>\n",
       "      <th>0</th>\n",
       "      <th>0</th>\n",
       "    </tr>\n",
       "  </thead>\n",
       "  <tbody>\n",
       "    <tr>\n",
       "      <th>0</th>\n",
       "      <td>Ghoul</td>\n",
       "      <td>Ghoul</td>\n",
       "      <td>Ghoul</td>\n",
       "      <td>Ghoul</td>\n",
       "      <td>Ghoul</td>\n",
       "      <td>Ghoul</td>\n",
       "      <td>Ghoul</td>\n",
       "    </tr>\n",
       "    <tr>\n",
       "      <th>1</th>\n",
       "      <td>Ghost</td>\n",
       "      <td>Goblin</td>\n",
       "      <td>Goblin</td>\n",
       "      <td>Goblin</td>\n",
       "      <td>Goblin</td>\n",
       "      <td>Goblin</td>\n",
       "      <td>Goblin</td>\n",
       "    </tr>\n",
       "    <tr>\n",
       "      <th>2</th>\n",
       "      <td>Ghoul</td>\n",
       "      <td>Ghoul</td>\n",
       "      <td>Ghoul</td>\n",
       "      <td>Ghoul</td>\n",
       "      <td>Ghoul</td>\n",
       "      <td>Ghoul</td>\n",
       "      <td>Ghoul</td>\n",
       "    </tr>\n",
       "    <tr>\n",
       "      <th>3</th>\n",
       "      <td>Ghost</td>\n",
       "      <td>Ghost</td>\n",
       "      <td>Ghoul</td>\n",
       "      <td>Ghoul</td>\n",
       "      <td>Ghost</td>\n",
       "      <td>Ghoul</td>\n",
       "      <td>Ghost</td>\n",
       "    </tr>\n",
       "    <tr>\n",
       "      <th>4</th>\n",
       "      <td>Ghost</td>\n",
       "      <td>Ghost</td>\n",
       "      <td>Ghost</td>\n",
       "      <td>Ghost</td>\n",
       "      <td>Goblin</td>\n",
       "      <td>Ghost</td>\n",
       "      <td>Ghost</td>\n",
       "    </tr>\n",
       "  </tbody>\n",
       "</table>\n",
       "</div>"
      ],
      "text/plain": [
       "       0       0       0       0       0       0       0\n",
       "0  Ghoul   Ghoul   Ghoul   Ghoul   Ghoul   Ghoul   Ghoul\n",
       "1  Ghost  Goblin  Goblin  Goblin  Goblin  Goblin  Goblin\n",
       "2  Ghoul   Ghoul   Ghoul   Ghoul   Ghoul   Ghoul   Ghoul\n",
       "3  Ghost   Ghost   Ghoul   Ghoul   Ghost   Ghoul   Ghost\n",
       "4  Ghost   Ghost   Ghost   Ghost  Goblin   Ghost   Ghost"
      ]
     },
     "execution_count": 86,
     "metadata": {},
     "output_type": "execute_result"
    }
   ],
   "source": [
    "df_ensemble_submission.head()"
   ]
  },
  {
   "cell_type": "code",
   "execution_count": 87,
   "metadata": {},
   "outputs": [],
   "source": [
    "df_ensemble_dummy = pd.get_dummies(df_ensemble_submission)"
   ]
  },
  {
   "cell_type": "code",
   "execution_count": 88,
   "metadata": {},
   "outputs": [],
   "source": [
    "pred = final_ensemble.predict(df_ensemble_dummy)"
   ]
  },
  {
   "cell_type": "code",
   "execution_count": 89,
   "metadata": {},
   "outputs": [
    {
     "data": {
      "text/plain": [
       "array(['Ghoul', 'Goblin', 'Ghoul', 'Ghost', 'Ghost'], dtype=object)"
      ]
     },
     "execution_count": 89,
     "metadata": {},
     "output_type": "execute_result"
    }
   ],
   "source": [
    "pred[0:5]"
   ]
  },
  {
   "cell_type": "code",
   "execution_count": 90,
   "metadata": {},
   "outputs": [],
   "source": [
    "submission = pd.DataFrame()\n",
    "submission['id'] = test['id']\n",
    "submission['type'] = pred"
   ]
  },
  {
   "cell_type": "code",
   "execution_count": 91,
   "metadata": {},
   "outputs": [],
   "source": [
    "submission.to_csv('submission_two.csv', header=True, index=False)"
   ]
  },
  {
   "cell_type": "code",
   "execution_count": null,
   "metadata": {},
   "outputs": [],
   "source": []
  }
 ],
 "metadata": {
  "kernelspec": {
   "display_name": "Python 3",
   "language": "python",
   "name": "python3"
  },
  "language_info": {
   "codemirror_mode": {
    "name": "ipython",
    "version": 3
   },
   "file_extension": ".py",
   "mimetype": "text/x-python",
   "name": "python",
   "nbconvert_exporter": "python",
   "pygments_lexer": "ipython3",
   "version": "3.6.7"
  }
 },
 "nbformat": 4,
 "nbformat_minor": 2
}
